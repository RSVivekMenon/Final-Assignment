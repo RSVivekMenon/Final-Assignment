{
 "cells": [
  {
   "cell_type": "markdown",
   "id": "482745ab-4d5f-4dfc-8dbb-9f246512da5f",
   "metadata": {},
   "source": [
    "# Data Science Tools and Ecosystem"
   ]
  },
  {
   "cell_type": "markdown",
   "id": "be50dc6e-8f53-48ec-bc5e-4a6df60e91f8",
   "metadata": {},
   "source": [
    "In this notebook, Data Science Tools and Ecosystem are summarized."
   ]
  },
  {
   "cell_type": "markdown",
   "id": "e4137085-a19f-40fd-9460-01b66fe84506",
   "metadata": {},
   "source": [
    "**Objectives:**\n",
    "* List popular languages for Data Science\n",
    "* List popular libraries used for Data Science\n",
    "* List Open Source Data Science Tools\n",
    "* Evaluating Arithmetic Expressions "
   ]
  },
  {
   "cell_type": "markdown",
   "id": "24878c7f-5840-4c47-915e-95d326500ea8",
   "metadata": {},
   "source": [
    "Some of the popular languages that Data Scientists use are:\n",
    "1. Python\n",
    "2. R\n",
    "3. SQL\n",
    "4. Java\n",
    "5. JavaScript"
   ]
  },
  {
   "cell_type": "markdown",
   "id": "2ee6899b-5f32-4c2e-b9a7-421ad33a2ec3",
   "metadata": {},
   "source": [
    "Some of the commonly used libraries used by Data Scientists include:\n",
    "1. NumPy\n",
    "2. TensorFlow\n",
    "3. Keras\n",
    "4. PyTorch\n",
    "5. Scikit-learn"
   ]
  },
  {
   "cell_type": "markdown",
   "id": "f1886f7c-99df-46b2-9c58-ca753a1c2a0b",
   "metadata": {},
   "source": [
    "| Data Science Tools |\n",
    "|--------------------|\n",
    "| Apache Spark       |\n",
    "| Apache Hadoop      |\n",
    "| TensorFlow         |"
   ]
  },
  {
   "cell_type": "markdown",
   "id": "47d746b1-2f6d-4e05-a83f-f9989fbf998b",
   "metadata": {},
   "source": [
    "### Below are a few examples of evaluating arithmetic expressions in Python"
   ]
  },
  {
   "cell_type": "code",
   "execution_count": 14,
   "id": "43656f04-2933-49a5-903e-5c43484c4c43",
   "metadata": {},
   "outputs": [
    {
     "data": {
      "text/plain": [
       "17"
      ]
     },
     "execution_count": 14,
     "metadata": {},
     "output_type": "execute_result"
    }
   ],
   "source": [
    "## This a simple arithmetic expression to multiply and then add integers\n",
    "(3*4)+5"
   ]
  },
  {
   "cell_type": "code",
   "execution_count": 20,
   "id": "a9f5c9af-548f-42f6-ba40-212582daeeeb",
   "metadata": {},
   "outputs": [
    {
     "name": "stdout",
     "output_type": "stream",
     "text": [
      "Time in hours =  3.3333333333333335\n"
     ]
    }
   ],
   "source": [
    "## This will convert 200 minutes to hours by diving by 60\n",
    "t_min = 200\n",
    "t_hrs = t_min/60\n",
    "print(\"Time in hours = \", t_hrs)"
   ]
  },
  {
   "cell_type": "markdown",
   "id": "78cc0748-f83e-43ef-a087-869c5cbad8c1",
   "metadata": {},
   "source": [
    "## Author\n",
    "R S Vivek Menon"
   ]
  },
  {
   "cell_type": "code",
   "execution_count": null,
   "id": "e033c34b-8964-4ac5-80f8-a9bb9d888539",
   "metadata": {},
   "outputs": [],
   "source": []
  }
 ],
 "metadata": {
  "kernelspec": {
   "display_name": "Python 3 (ipykernel)",
   "language": "python",
   "name": "python3"
  },
  "language_info": {
   "codemirror_mode": {
    "name": "ipython",
    "version": 3
   },
   "file_extension": ".py",
   "mimetype": "text/x-python",
   "name": "python",
   "nbconvert_exporter": "python",
   "pygments_lexer": "ipython3",
   "version": "3.11.7"
  }
 },
 "nbformat": 4,
 "nbformat_minor": 5
}
